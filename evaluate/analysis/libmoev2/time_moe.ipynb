{
 "cells": [
  {
   "cell_type": "code",
   "execution_count": 2,
   "metadata": {},
   "outputs": [],
   "source": [
    "import pandas as pd\n",
    "import numpy as np\n",
    "import os\n",
    "import matplotlib.pyplot as plt\n",
    "import glob\n",
    "import ujson as json\n",
    "\n",
    "import torch\n",
    "\n",
    "\n",
    "from tqdm import tqdm\n",
    "import numpy as np\n",
    "from safetensors import safe_open\n",
    "import torch.nn as nn\n",
    "import matplotlib.pyplot as plt\n",
    "import numpy as np\n",
    "from matplotlib.ticker import MaxNLocator\n",
    "# Set font globally to Times New Roman\n",
    "plt.rcParams['font.family'] = 'DejaVu Serif'\n",
    "fontsize = 19\n"
   ]
  },
  {
   "cell_type": "code",
   "execution_count": 35,
   "metadata": {},
   "outputs": [],
   "source": [
    "def process_time(path, name):\n",
    "    list_file = glob.glob(path)\n",
    "    # list_file = ['/cm/archive/anonymous/checkpoints/time_mmbench_en_dev/0414_0712_llava...n_dev_llava_model_args_235e50/']\n",
    "    logs_time = {}\n",
    "    for path in list_file:\n",
    "        try:\n",
    "            with open(path+ f\"/{name}.json\", \"r\") as f:\n",
    "                data = json.load(f)\n",
    "        except: continue\n",
    "        with open(path+ \"/results.json\", \"r\") as f:\n",
    "            data_results = json.load(f)\n",
    "        name_model = data_results['model_configs'][\"model_args\"].split('/')[-1].split(',')[0]\n",
    "        logs_time[name_model] = 0\n",
    "        for sample in data['logs']:\n",
    "            logs_time[name_model]  += sample['logs_metrics_vision'][0][0]['time_inference']\n",
    "        logs_time[name_model] = len(data['logs'])/logs_time[name_model]\n",
    "    return logs_time"
   ]
  },
  {
   "cell_type": "code",
   "execution_count": 38,
   "metadata": {},
   "outputs": [],
   "source": [
    "logs_time_mmmul = process_time(path=\"/cm/archive/anonymous_new/revise_checkpoints/Xphi35-siglip224/SMOE/665K36/analysts/time_inference_final/mmstar/*\", name=\"mmstar\")"
   ]
  },
  {
   "cell_type": "code",
   "execution_count": 39,
   "metadata": {},
   "outputs": [
    {
     "data": {
      "text/plain": [
       "{'Full_smoe_share': 7.527967324083392,\n",
       " 'Full_smoe_sharev3': 7.588843043397584,\n",
       " 'Full_smoe': 6.683003789011875,\n",
       " 'Full_xmoe': 6.967172784433471,\n",
       " 'Full_smoe_tcmoe': 6.936853779216927,\n",
       " 'Full_smoe_plus_plus': 6.825692250216037,\n",
       " 'Full_smoe_sigmoidgating': 7.4609764868376525}"
      ]
     },
     "execution_count": 39,
     "metadata": {},
     "output_type": "execute_result"
    }
   ],
   "source": [
    "logs_time_mmmul"
   ]
  },
  {
   "cell_type": "code",
   "execution_count": 28,
   "metadata": {},
   "outputs": [
    {
     "data": {
      "text/plain": [
       "9.889821467133272"
      ]
     },
     "execution_count": 28,
     "metadata": {},
     "output_type": "execute_result"
    }
   ],
   "source": [
    "4329 / 437.72276520729065"
   ]
  },
  {
   "cell_type": "code",
   "execution_count": null,
   "metadata": {},
   "outputs": [],
   "source": []
  },
  {
   "cell_type": "code",
   "execution_count": 9,
   "metadata": {},
   "outputs": [],
   "source": [
    "logs_time_textvqa = process_time(path=\"/cm/archive/anonymous/checkpoints/time_inference_textvqa/*\", name=\"textvqa_val\")"
   ]
  },
  {
   "cell_type": "code",
   "execution_count": 10,
   "metadata": {},
   "outputs": [],
   "source": [
    "logs_time_mmstar = process_time(path=\"/cm/archive/anonymous/checkpoints/time_inference_mmstar/*\", name=\"mmstar\")"
   ]
  },
  {
   "cell_type": "code",
   "execution_count": 11,
   "metadata": {},
   "outputs": [],
   "source": [
    "logs_time_mmbench_dev = process_time(path=\"/cm/archive/anonymous/checkpoints/time_inference_mmbench_en_dev/*\", name=\"mmbench_en_dev\")"
   ]
  },
  {
   "cell_type": "code",
   "execution_count": 12,
   "metadata": {},
   "outputs": [
    {
     "data": {
      "text/plain": [
       "{'Full_smoe': 868.4777865409851,\n",
       " 'Full_competesmoev30': 837.4669568538666,\n",
       " 'Full_xmoe': 819.8638134002686,\n",
       " 'Full_smoe_perturbed': 857.0086207389832,\n",
       " 'Full_new_smoe_share': 800.35955286026,\n",
       " 'Full_new_smoe_sigmoidgating': 756.8017325401306}"
      ]
     },
     "execution_count": 12,
     "metadata": {},
     "output_type": "execute_result"
    }
   ],
   "source": [
    "logs_time_textvqa"
   ]
  },
  {
   "cell_type": "code",
   "execution_count": 13,
   "metadata": {},
   "outputs": [
    {
     "data": {
      "text/plain": [
       "{'Full_xmoe': 109.44233751296997,\n",
       " 'Full_smoe_perturbed': 114.17127919197083,\n",
       " 'Full_competesmoev30': 105.97771573066711,\n",
       " 'Full_new_smoe_share': 98.14935231208801,\n",
       " 'Full_new_smoe_sigmoidgating': 104.8480498790741,\n",
       " 'Full_smoe': 107.08149933815002}"
      ]
     },
     "execution_count": 13,
     "metadata": {},
     "output_type": "execute_result"
    }
   ],
   "source": [
    "logs_time_mmmul"
   ]
  },
  {
   "cell_type": "code",
   "execution_count": 14,
   "metadata": {},
   "outputs": [
    {
     "data": {
      "text/plain": [
       "{'Full_smoe_perturbed': 182.32840013504028,\n",
       " 'Full_smoe': 154.476881980896,\n",
       " 'Full_xmoe': 176.13097476959229,\n",
       " 'Full_competesmoev30': 162.50168704986572,\n",
       " 'Full_new_smoe_share': 156.93856978416443,\n",
       " 'Full_new_smoe_sigmoidgating': 159.689683675766}"
      ]
     },
     "execution_count": 14,
     "metadata": {},
     "output_type": "execute_result"
    }
   ],
   "source": [
    "logs_time_mmstar"
   ]
  },
  {
   "cell_type": "code",
   "execution_count": 15,
   "metadata": {},
   "outputs": [
    {
     "data": {
      "text/plain": [
       "{'Full_xmoe': 503.29526138305664,\n",
       " 'Full_new_smoe_sigmoidgating': 450.53858852386475,\n",
       " 'Full_new_smoe_share': 445.9992632865906,\n",
       " 'Full_competesmoev30': 460.7733507156372,\n",
       " 'Full_smoe_perturbed': 504.2172999382019,\n",
       " 'Full_smoe': 438.547128200531}"
      ]
     },
     "execution_count": 15,
     "metadata": {},
     "output_type": "execute_result"
    }
   ],
   "source": [
    "logs_time_mmbench_dev"
   ]
  },
  {
   "cell_type": "code",
   "execution_count": null,
   "metadata": {},
   "outputs": [],
   "source": []
  }
 ],
 "metadata": {
  "kernelspec": {
   "display_name": "Python 3",
   "language": "python",
   "name": "python3"
  },
  "language_info": {
   "codemirror_mode": {
    "name": "ipython",
    "version": 3
   },
   "file_extension": ".py",
   "mimetype": "text/x-python",
   "name": "python",
   "nbconvert_exporter": "python",
   "pygments_lexer": "ipython3",
   "version": "3.10.12"
  }
 },
 "nbformat": 4,
 "nbformat_minor": 2
}
