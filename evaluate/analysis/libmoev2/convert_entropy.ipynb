{
 "cells": [
  {
   "cell_type": "code",
   "execution_count": 1,
   "metadata": {},
   "outputs": [],
   "source": [
    "import glob\n",
    "import os \n",
    "import json\n",
    "import ujson\n",
    "import numpy as np\n",
    "import time"
   ]
  },
  {
   "cell_type": "code",
   "execution_count": 2,
   "metadata": {},
   "outputs": [],
   "source": [
    "list_logs = glob.glob(\"/cm/archive/anonymous_new/revise_checkpoints/Xphi35-siglip224/SMOE/665K36/analysts/entropy_nonorm/mmstar_mmmu_val/*\")"
   ]
  },
  {
   "cell_type": "code",
   "execution_count": 4,
   "metadata": {},
   "outputs": [],
   "source": [
    "name_benchmark = 'mmstar'\n",
    "margin_data = {}\n",
    "for path_folder in list_logs:\n",
    "    path_data = f\"{path_folder}/{name_benchmark}.json\"\n",
    "    try:\n",
    "        with open(path_data, 'r') as f:\n",
    "            data = ujson.load(f)\n",
    "    except:\n",
    "        continue\n",
    "\n",
    "    # Initialize list for processed data\n",
    "    new_data = []\n",
    "    data_selected = {}\n",
    "\n",
    "    # Process the data\n",
    "    for sample in data['logs']:\n",
    "        sample = sample['logs_metrics_vision'][0][0]  # Access the nested structure\n",
    "        check = False\n",
    "        # check logs moe layers in vision transformers\n",
    "        for i in range(10):\n",
    "            if str(i) not in sample: \n",
    "                check = True\n",
    "        if check: continue\n",
    "        for id_layer, value in sample.items():\n",
    "            if \"time_inference\" in id_layer: continue\n",
    "            if id_layer not in data_selected:\n",
    "                data_selected[id_layer] = []\n",
    "            for name_metric, val_metric in value.items():\n",
    "                if \"entropy_weight_topk\" in name_metric: \n",
    "                    data_selected[id_layer].append(np.mean(val_metric))\n",
    "                    continue\n",
    "    output_dir = os.path.dirname(path_data)  # Use the same directory as input\n",
    "             \n",
    "    with open(output_dir + \"/results.json\", 'r') as f:\n",
    "        data_results = ujson.load(f)\n",
    "    \n",
    "    # /cm/archive/anonymous_new/revise_checkpoints/Xphi35-siglip224/SMOE/665K36/revise_Full_smoe_sharev3/analysts/0717_2237_llava...mstar_llava_model_args_82420a/mme.json\n",
    "    name_model = data_results['model_configs'][\"model_args\"].split('/')[-1].split(\",\")[0]\n",
    "    for k in data_selected.keys():\n",
    "        data_selected[k] = np.mean(data_selected[k])\n",
    "    margin_data[name_model] = data_selected\n",
    "\n",
    "with open(f\"router_entropy_{name_benchmark}.json\", 'w') as f:\n",
    "    json.dump(margin_data, f, indent=4)"
   ]
  },
  {
   "cell_type": "code",
   "execution_count": 13,
   "metadata": {},
   "outputs": [
    {
     "data": {
      "text/plain": [
       "{'665K36': {'0': 0.03535178835201077,\n",
       "  '1': 0.07737483077449724,\n",
       "  '2': 0.06751945787505247,\n",
       "  '3': 0.07542872965941205,\n",
       "  '4': 0.08642619879404083,\n",
       "  '5': 0.08280173706907469,\n",
       "  '6': 0.10013823419786058,\n",
       "  '7': 0.09451774462879015,\n",
       "  '8': 0.09618997223535553,\n",
       "  '9': 0.10094959531375207,\n",
       "  '10': 0.10313921416465503,\n",
       "  '11': 0.11232754998886958,\n",
       "  '12': 0.10823619851151792,\n",
       "  '13': 0.11448509363892177,\n",
       "  '14': 0.10420365399378352,\n",
       "  '15': 0.11744103628497882,\n",
       "  '16': 0.13889431612286718,\n",
       "  '17': 0.1542149654070381,\n",
       "  '18': 0.17566491074518611,\n",
       "  '19': 0.22162607888272032,\n",
       "  '20': 0.23396070649754255,\n",
       "  '21': 0.29222623670333997,\n",
       "  '22': 0.30224923161432765,\n",
       "  '23': 0.3311616037202378,\n",
       "  '24': 0.3427706141487385,\n",
       "  '25': 0.36822669838159344,\n",
       "  '26': 0.10400550506240688,\n",
       "  'mm_projector': 0.2072025761376911}}"
      ]
     },
     "execution_count": 13,
     "metadata": {},
     "output_type": "execute_result"
    }
   ],
   "source": [
    "margin_data"
   ]
  },
  {
   "cell_type": "code",
   "execution_count": null,
   "metadata": {},
   "outputs": [],
   "source": []
  }
 ],
 "metadata": {
  "kernelspec": {
   "display_name": "moe_new",
   "language": "python",
   "name": "python3"
  },
  "language_info": {
   "codemirror_mode": {
    "name": "ipython",
    "version": 3
   },
   "file_extension": ".py",
   "mimetype": "text/x-python",
   "name": "python",
   "nbconvert_exporter": "python",
   "pygments_lexer": "ipython3",
   "version": "3.9.21"
  }
 },
 "nbformat": 4,
 "nbformat_minor": 2
}
