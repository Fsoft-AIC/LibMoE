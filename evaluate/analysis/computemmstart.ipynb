{
 "cells": [
  {
   "cell_type": "code",
   "execution_count": 2,
   "metadata": {},
   "outputs": [
    {
     "name": "stdout",
     "output_type": "stream",
     "text": [
      "Dictionary: {'coarse perception,none': 0.6849368506883949, 'coarse perception_stderr,none': 'N/A', 'fine-grained perception,none': 0.3427781871775976, 'fine-grained perception_stderr,none': 'N/A', 'instance reasoning,none': 0.5352168538105472, 'instance reasoning_stderr,none': 'N/A', 'logical reasoning,none': 0.3966227391969966, 'logical reasoning_stderr,none': 'N/A', 'math,none': 0.3681335204490778, 'math_stderr,none': 'N/A', 'science & technology,none': 0.2924496655781698, 'science & technology_stderr,none': 'N/A', 'alias': 'mmstar'}\n",
      "Numeric Values: [0.6849368506883949, 0.3427781871775976, 0.5352168538105472, 0.3966227391969966, 0.3681335204490778, 0.2924496655781698]\n",
      "Mean Value: 0.4366896361501306\n"
     ]
    }
   ],
   "source": [
    "import json\n",
    "\n",
    "# Chuỗi JSON bạn dán vào\n",
    "json_string = \"\"\"\n",
    "{\n",
    "            \"coarse perception,none\": 0.6849368506883949,\n",
    "            \"coarse perception_stderr,none\": \"N/A\",\n",
    "            \"fine-grained perception,none\": 0.3427781871775976,\n",
    "            \"fine-grained perception_stderr,none\": \"N/A\",\n",
    "            \"instance reasoning,none\": 0.5352168538105472,\n",
    "            \"instance reasoning_stderr,none\": \"N/A\",\n",
    "            \"logical reasoning,none\": 0.3966227391969966,\n",
    "            \"logical reasoning_stderr,none\": \"N/A\",\n",
    "            \"math,none\": 0.3681335204490778,\n",
    "            \"math_stderr,none\": \"N/A\",\n",
    "            \"science & technology,none\": 0.2924496655781698,\n",
    "            \"science & technology_stderr,none\": \"N/A\",\n",
    "            \"alias\": \"mmstar\"\n",
    "        }\n",
    "\"\"\"\n",
    "\n",
    "# Parse chuỗi JSON thành dictionary\n",
    "data = json.loads(json_string)\n",
    "\n",
    "# Lọc các giá trị số từ dictionary\n",
    "numeric_values = [\n",
    "    value for key, value in data.items()\n",
    "    if isinstance(value, (int, float))\n",
    "]\n",
    "\n",
    "# Tính toán giá trị trung bình\n",
    "mean_value = sum(numeric_values) / len(numeric_values) if numeric_values else None\n",
    "\n",
    "# Hiển thị kết quả\n",
    "print(\"Dictionary:\", data)\n",
    "print(\"Numeric Values:\", numeric_values)\n",
    "print(\"Mean Value:\", mean_value)\n"
   ]
  },
  {
   "cell_type": "code",
   "execution_count": null,
   "metadata": {},
   "outputs": [
    {
     "data": {
      "text/plain": [
       "0.42069657703724306"
      ]
     },
     "execution_count": 2,
     "metadata": {},
     "output_type": "execute_result"
    }
   ],
   "source": [
    "mean_valueDictionary: {'coarse perception,none': 0.6942347288949898, 'coarse perception_stderr,none': 'N/A', 'fine-grained perception,none': 0.36603414394497663, 'fine-grained perception_stderr,none': 'N/A', 'instance reasoning,none': 0.5358685318815801, 'instance reasoning_stderr,none': 'N/A', 'logical reasoning,none': 0.3858555086277859, 'logical reasoning_stderr,none': 'N/A', 'math,none': 0.36225273990911516, 'math_stderr,none': 'N/A', 'science & technology,none': 0.25347942467122603, 'science & technology_stderr,none': 'N/A', 'alias': 'mmstar'}\n",
    "Numeric Values: [0.6942347288949898, 0.36603414394497663, 0.5358685318815801, 0.3858555086277859, 0.36225273990911516, 0.25347942467122603]\n",
    "Mean Value: 0.43295417965494565\n",
    "\n"
   ]
  },
  {
   "cell_type": "code",
   "execution_count": 13,
   "metadata": {},
   "outputs": [],
   "source": [
    "sotplus = 0.4234834582569971"
   ]
  },
  {
   "cell_type": "code",
   "execution_count": 48,
   "metadata": {},
   "outputs": [],
   "source": [
    "elu75 = 0.41912009266129696"
   ]
  },
  {
   "cell_type": "code",
   "execution_count": null,
   "metadata": {},
   "outputs": [],
   "source": [
    "elu5 = 0.4191140102304907"
   ]
  }
 ],
 "metadata": {
  "kernelspec": {
   "display_name": "moe_new",
   "language": "python",
   "name": "python3"
  },
  "language_info": {
   "codemirror_mode": {
    "name": "ipython",
    "version": 3
   },
   "file_extension": ".py",
   "mimetype": "text/x-python",
   "name": "python",
   "nbconvert_exporter": "python",
   "pygments_lexer": "ipython3",
   "version": "3.9.21"
  }
 },
 "nbformat": 4,
 "nbformat_minor": 2
}
