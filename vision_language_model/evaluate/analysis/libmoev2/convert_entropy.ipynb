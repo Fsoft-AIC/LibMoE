{
 "cells": [
  {
   "cell_type": "markdown",
   "id": "baf1e4b6",
   "metadata": {},
   "source": [
    "# Router Entropy Aggregation"
   ]
  },
  {
   "cell_type": "code",
   "execution_count": null,
   "id": "41aeb28a",
   "metadata": {},
   "outputs": [],
   "source": [
    "from pathlib import Path\n",
    "import json\n",
    "\n",
    "from evaluate.analysis.libmoev2.python.router_metrics import aggregate_entropy\n",
    "\n",
    "RUNS_ROOT = Path(\"/cm/archive/anonymous_new/revise_checkpoints/Xphi35-siglip224/SMOE/665K36/analysts/entropy_nonorm/mmstar_mmmu_val\")\n",
    "DATASETS = [\"mmstar\", \"mmmu_val\"]\n",
    "EXPECTED_LAYERS = tuple(str(i) for i in range(10))\n",
    "\n",
    "entropy_summaries = {}\n",
    "for dataset in DATASETS:\n",
    "    summary = aggregate_entropy(RUNS_ROOT, dataset, expected_layers=EXPECTED_LAYERS)\n",
    "    output_path = Path(f\"router_entropy_{dataset}.json\")\n",
    "    with open(output_path, \"w\") as handle:\n",
    "        json.dump(summary, handle, indent=2)\n",
    "    entropy_summaries[dataset] = summary\n",
    "\n",
    "entropy_summaries"
   ]
  }
 ],
 "metadata": {},
 "nbformat": 4,
 "nbformat_minor": 5
}
