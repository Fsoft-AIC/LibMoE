{
 "cells": [
  {
   "cell_type": "markdown",
   "id": "d964d9cb",
   "metadata": {},
   "source": [
    "# Progress Changes Selected Pretrain Module"
   ]
  },
  {
   "cell_type": "code",
   "execution_count": null,
   "id": "04d1bb89",
   "metadata": {},
   "outputs": [],
   "source": [
    "from evaluate.analysis.libmoev2 import progress_changes_selected_pretrain_module\n",
    "\n",
    "progress_changes_selected_pretrain_module.run()"
   ]
  }
 ],
 "metadata": {},
 "nbformat": 4,
 "nbformat_minor": 5
}
