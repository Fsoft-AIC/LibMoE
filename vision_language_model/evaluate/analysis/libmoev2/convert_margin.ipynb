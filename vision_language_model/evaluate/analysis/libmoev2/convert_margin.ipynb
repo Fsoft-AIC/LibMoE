{
 "cells": [
  {
   "cell_type": "markdown",
   "id": "a3d318f3",
   "metadata": {},
   "source": [
    "# Router Margin Aggregation"
   ]
  },
  {
   "cell_type": "code",
   "execution_count": null,
   "id": "7d5ddcad",
   "metadata": {},
   "outputs": [],
   "source": [
    "from pathlib import Path\n",
    "import json\n",
    "\n",
    "from evaluate.analysis.libmoev2.python.router_metrics import aggregate_margin\n",
    "\n",
    "RUNS_ROOT = Path(\"/cm/archive/anonymous_new/revise_checkpoints/Xphi35-siglip224/SMOE/665K36/analysts/router_magine/mmstar_mmmu_val\")\n",
    "DATASETS = [\"mmstar\", \"mmmu_val\"]\n",
    "EXPECTED_LAYERS = tuple(str(i) for i in range(10))\n",
    "\n",
    "margin_summaries = {}\n",
    "for dataset in DATASETS:\n",
    "    summary = aggregate_margin(RUNS_ROOT, dataset, expected_layers=EXPECTED_LAYERS)\n",
    "    output_path = Path(f\"router_margin_{dataset}.json\")\n",
    "    with open(output_path, \"w\") as handle:\n",
    "        json.dump(summary, handle, indent=2)\n",
    "    margin_summaries[dataset] = summary\n",
    "\n",
    "margin_summaries"
   ]
  }
 ],
 "metadata": {},
 "nbformat": 4,
 "nbformat_minor": 5
}
