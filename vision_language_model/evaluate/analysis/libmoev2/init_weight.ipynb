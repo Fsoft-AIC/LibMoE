{
 "cells": [
  {
   "cell_type": "markdown",
   "id": "9318e3cb",
   "metadata": {},
   "source": [
    "# Init Weight Module"
   ]
  },
  {
   "cell_type": "code",
   "execution_count": null,
   "id": "7f60f240",
   "metadata": {},
   "outputs": [],
   "source": [
    "from evaluate.analysis.libmoev2 import init_weight_module\n",
    "\n",
    "init_weight_module.run()"
   ]
  }
 ],
 "metadata": {},
 "nbformat": 4,
 "nbformat_minor": 5
}
