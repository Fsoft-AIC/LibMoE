{
 "cells": [
  {
   "cell_type": "markdown",
   "id": "48b3a075",
   "metadata": {},
   "source": [
    "# Visual Data Module"
   ]
  },
  {
   "cell_type": "code",
   "execution_count": null,
   "id": "f7345b82",
   "metadata": {},
   "outputs": [],
   "source": [
    "from evaluate.analysis.libmoev2 import visual_data_module\n",
    "\n",
    "visual_data_module.run()"
   ]
  }
 ],
 "metadata": {},
 "nbformat": 4,
 "nbformat_minor": 5
}
