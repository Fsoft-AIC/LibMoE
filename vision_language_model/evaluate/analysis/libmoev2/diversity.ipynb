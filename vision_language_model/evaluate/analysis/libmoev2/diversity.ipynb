{
 "cells": [
  {
   "cell_type": "markdown",
   "id": "125e9052",
   "metadata": {},
   "source": [
    "# Diversity Module"
   ]
  },
  {
   "cell_type": "code",
   "execution_count": null,
   "id": "dbe83416",
   "metadata": {},
   "outputs": [],
   "source": [
    "from evaluate.analysis.libmoev2 import diversity_module\n",
    "\n",
    "diversity_module.run()"
   ]
  }
 ],
 "metadata": {},
 "nbformat": 4,
 "nbformat_minor": 5
}
