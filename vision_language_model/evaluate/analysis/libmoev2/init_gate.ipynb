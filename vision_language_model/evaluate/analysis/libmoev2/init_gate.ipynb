{
 "cells": [
  {
   "cell_type": "markdown",
   "id": "5b67b643",
   "metadata": {},
   "source": [
    "# Init Gate Module"
   ]
  },
  {
   "cell_type": "code",
   "execution_count": null,
   "id": "bb760b10",
   "metadata": {},
   "outputs": [],
   "source": [
    "from evaluate.analysis.libmoev2 import init_gate_module\n",
    "\n",
    "init_gate_module.run()"
   ]
  }
 ],
 "metadata": {},
 "nbformat": 4,
 "nbformat_minor": 5
}
