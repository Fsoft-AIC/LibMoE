{
 "cells": [
  {
   "cell_type": "markdown",
   "id": "87301ec3",
   "metadata": {},
   "source": [
    "# Progress Changes Selected Module"
   ]
  },
  {
   "cell_type": "code",
   "execution_count": null,
   "id": "528f4dcc",
   "metadata": {},
   "outputs": [],
   "source": [
    "from evaluate.analysis.libmoev2 import progress_changes_selected_module\n",
    "\n",
    "progress_changes_selected_module.run()"
   ]
  }
 ],
 "metadata": {},
 "nbformat": 4,
 "nbformat_minor": 5
}
