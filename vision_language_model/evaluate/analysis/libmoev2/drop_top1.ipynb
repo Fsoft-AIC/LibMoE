{
 "cells": [
  {
   "cell_type": "markdown",
   "id": "00350ec1",
   "metadata": {},
   "source": [
    "# Drop Top1 Module"
   ]
  },
  {
   "cell_type": "code",
   "execution_count": null,
   "id": "a349fe04",
   "metadata": {},
   "outputs": [],
   "source": [
    "from evaluate.analysis.libmoev2 import drop_top1_module\n",
    "\n",
    "drop_top1_module.run()"
   ]
  }
 ],
 "metadata": {},
 "nbformat": 4,
 "nbformat_minor": 5
}
