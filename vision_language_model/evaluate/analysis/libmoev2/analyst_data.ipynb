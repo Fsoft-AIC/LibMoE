{
 "cells": [
  {
   "cell_type": "markdown",
   "id": "6f000296",
   "metadata": {},
   "source": [
    "## LibMoE V2 analyst plots"
   ]
  },
  {
   "cell_type": "code",
   "execution_count": null,
   "id": "7ea37b1f",
   "metadata": {},
   "outputs": [],
   "source": [
    "from pathlib import Path\n",
    "\n",
    "from evaluate.analysis.libmoev2 import analyst_plot_utils as apu\n",
    "\n",
    "RESULTS_PATH = Path(\"/cm/shared/anonymous_h100/LibMoE/evaluate/analysis/results/result_metric_libmoev2_665k.json\")\n",
    "OUTPUT_DIR = Path(\"/cm/shared/anonymous_h100/LibMoE/evaluate/analysis/libmoev2/figures\")\n",
    "\n",
    "results = apu.load_results(RESULTS_PATH)\n",
    "missing_entries = apu.find_missing_entries(results)\n",
    "missing_entries"
   ]
  },
  {
   "cell_type": "code",
   "execution_count": null,
   "id": "b8294d9b",
   "metadata": {},
   "outputs": [],
   "source": [
    "summary = apu.build_figures(\n",
    "    results,\n",
    "    checkpoints=apu.PERCENT_CHECKPOINTS,\n",
    "    benchmarks=apu.BENCHMARKS_SELECTED,\n",
    "    output_dir=OUTPUT_DIR,\n",
    "    font_size=apu.DEFAULT_FONT_SIZE,\n",
    "    show=True,\n",
    ")"
   ]
  },
  {
   "cell_type": "code",
   "execution_count": null,
   "id": "6161df94",
   "metadata": {},
   "outputs": [],
   "source": [
    "summary[\"grid_pdf\"], summary[\"summary_pdf\"], summary[\"summary_png\"]"
   ]
  }
 ],
 "metadata": {},
 "nbformat": 4,
 "nbformat_minor": 5
}
