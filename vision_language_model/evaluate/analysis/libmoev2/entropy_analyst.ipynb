{
 "cells": [
  {
   "cell_type": "markdown",
   "id": "d083f74f",
   "metadata": {},
   "source": [
    "# Entropy Analyst Module"
   ]
  },
  {
   "cell_type": "code",
   "execution_count": null,
   "id": "4ffa405d",
   "metadata": {},
   "outputs": [],
   "source": [
    "from evaluate.analysis.libmoev2 import entropy_analyst_module\n",
    "\n",
    "entropy_analyst_module.run()"
   ]
  }
 ],
 "metadata": {},
 "nbformat": 4,
 "nbformat_minor": 5
}
